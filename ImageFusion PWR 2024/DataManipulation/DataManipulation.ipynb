{
 "cells": [
  {
   "cell_type": "code",
   "execution_count": 59,
   "metadata": {},
   "outputs": [],
   "source": [
    "import cv2\n",
    "import os\n",
    "import random\n",
    "import numpy as np"
   ]
  },
  {
   "cell_type": "code",
   "execution_count": null,
   "metadata": {},
   "outputs": [],
   "source": [
    "PRIME_DATASET_FOLDER_PATH = \"./DataPlaceholder\"\n",
    "\n",
    "MRI_FOLDER_NAME = \"MRI\"\n",
    "CT_FOLDER_NAME = \"CT\"\n",
    "WIDENED_FOLDER_POSTFIX = \"WIDENED\"\n",
    "\n",
    "mri_base_path = os.path.join(PRIME_DATASET_FOLDER_PATH, MRI_FOLDER_NAME)\n",
    "ct_base_path = os.path.join(PRIME_DATASET_FOLDER_PATH, CT_FOLDER_NAME)\n",
    "edge = 256 "
   ]
  },
  {
   "cell_type": "code",
   "execution_count": 61,
   "metadata": {},
   "outputs": [],
   "source": [
    "filenames = os.listdir(os.path.join(PRIME_DATASET_FOLDER_PATH, MRI_FOLDER_NAME))\n",
    "mri_files = filenames\n",
    "ct_files = os.listdir(os.path.join(PRIME_DATASET_FOLDER_PATH, CT_FOLDER_NAME))\n",
    "\n",
    "pairder_paths = []\n",
    "for filename in filenames:\n",
    "    pairder_paths.append((os.path.join(mri_base_path,filename), os.path.join(ct_base_path, filename)))"
   ]
  },
  {
   "cell_type": "code",
   "execution_count": null,
   "metadata": {},
   "outputs": [],
   "source": [
    "def Rotate():\n",
    "    rotation_angles = [45,90,135]\n",
    "    center = (edge // 2, edge // 2)\n",
    "    rotation_angles = (90, 180, 270)\n",
    "    for pair in pairder_paths:\n",
    "        for file in pair:\n",
    "            image = cv2.imread(file)\n",
    "            for angle in rotation_angles:\n",
    "                rotation_matrix = cv2.getRotationMatrix2D(center, angle, 1)\n",
    "                rotated_image = cv2.warpAffine(image, rotation_matrix, (edge, edge))\n",
    "                \n",
    "                target_path = file.replace(\"\\\\MRI\\\\\", \"\\\\MRIWIDENED\\\\\")\n",
    "                if target_path == file:\n",
    "                    target_path = file.replace(\"\\\\CT\\\\\", \"\\\\CTWIDENED\\\\\")\n",
    "\n",
    "                target_path = target_path.split('.')\n",
    "                target_path[0]+= f\"_{angle}\"\n",
    "                target_path = \".\".join(target_path)\n",
    "                cv2.imwrite(target_path, rotated_image)"
   ]
  },
  {
   "cell_type": "code",
   "execution_count": null,
   "metadata": {},
   "outputs": [],
   "source": [
    "def Translate():\n",
    "    for pair in pairder_paths:\n",
    "        shift_vertical = random.choice(range(10,20))\n",
    "        shift_horizontal = random.choice(range(10,20))\n",
    "        for file in pair:\n",
    "\n",
    "            image = cv2.imread(file)\n",
    "            \n",
    "            translation_matrix = np.float32([[1, 0, shift_horizontal], [0, 1, shift_vertical]])\n",
    "            translated_image = cv2.warpAffine(image, translation_matrix, (edge, edge))\n",
    "            \n",
    "            target_path = file.replace(\"\\\\MRI\\\\\", \"\\\\MRIWIDENED\\\\\")\n",
    "            if target_path == file:\n",
    "                target_path = file.replace(\"\\\\CT\\\\\", \"\\\\CTWIDENED\\\\\")\n",
    "\n",
    "            target_path = target_path.split('.')\n",
    "            target_path[0]+= f\"_translated_{shift_horizontal}_{shift_vertical}\"\n",
    "            target_path = \".\".join(target_path)\n",
    "            cv2.imwrite(target_path, translated_image)"
   ]
  },
  {
   "cell_type": "code",
   "execution_count": null,
   "metadata": {},
   "outputs": [],
   "source": [
    "if False:\n",
    "    Rotate()\n",
    "if False:\n",
    "    Translate()"
   ]
  }
 ],
 "metadata": {
  "kernelspec": {
   "display_name": "Python 3",
   "language": "python",
   "name": "python3"
  },
  "language_info": {
   "codemirror_mode": {
    "name": "ipython",
    "version": 3
   },
   "file_extension": ".py",
   "mimetype": "text/x-python",
   "name": "python",
   "nbconvert_exporter": "python",
   "pygments_lexer": "ipython3",
   "version": "3.11.0"
  }
 },
 "nbformat": 4,
 "nbformat_minor": 2
}
